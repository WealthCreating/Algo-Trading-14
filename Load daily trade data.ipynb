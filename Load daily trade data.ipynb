{
 "cells": [
  {
   "cell_type": "code",
   "execution_count": 3,
   "metadata": {},
   "outputs": [
    {
     "name": "stdout",
     "output_type": "stream",
     "text": [
      "Loading library list...\n",
      "Done\n"
     ]
    }
   ],
   "source": [
    "import wrds\n",
    "\n",
    "conn = wrds.Connection()\n",
    "# conn.create_pgpass_file()"
   ]
  },
  {
   "cell_type": "code",
   "execution_count": 4,
   "metadata": {},
   "outputs": [],
   "source": [
    "# conn.describe_table(library = 'crspq', table = 'dsf')"
   ]
  },
  {
   "cell_type": "code",
   "execution_count": 5,
   "metadata": {},
   "outputs": [],
   "source": [
    "ct = conn.get_table(library ='crspa', table = 'dsfhdr', columns = ['cusip','htick'])\n",
    "id_ticker = ct[ct.htick.values != None].set_index('cusip')\n",
    "ticker_id = ct[ct.htick.values != None].set_index('htick')"
   ]
  },
  {
   "cell_type": "markdown",
   "metadata": {},
   "source": [
    "###  Change for your own Ticker and Date"
   ]
  },
  {
   "cell_type": "code",
   "execution_count": 6,
   "metadata": {},
   "outputs": [],
   "source": [
    "ticker = 'AAPL'\n",
    "start = '2018-09-01'\n",
    "end = '2018-09-30'"
   ]
  },
  {
   "cell_type": "code",
   "execution_count": 8,
   "metadata": {},
   "outputs": [
    {
     "data": {
      "text/html": [
       "<div>\n",
       "<style scoped>\n",
       "    .dataframe tbody tr th:only-of-type {\n",
       "        vertical-align: middle;\n",
       "    }\n",
       "\n",
       "    .dataframe tbody tr th {\n",
       "        vertical-align: top;\n",
       "    }\n",
       "\n",
       "    .dataframe thead th {\n",
       "        text-align: right;\n",
       "    }\n",
       "</style>\n",
       "<table border=\"1\" class=\"dataframe\">\n",
       "  <thead>\n",
       "    <tr style=\"text-align: right;\">\n",
       "      <th></th>\n",
       "      <th>date</th>\n",
       "      <th>cusip</th>\n",
       "      <th>open</th>\n",
       "      <th>high</th>\n",
       "      <th>low</th>\n",
       "      <th>volume</th>\n",
       "      <th>return</th>\n",
       "      <th>close</th>\n",
       "      <th>ticker</th>\n",
       "    </tr>\n",
       "  </thead>\n",
       "  <tbody>\n",
       "    <tr>\n",
       "      <th>0</th>\n",
       "      <td>2018-09-04</td>\n",
       "      <td>03783310</td>\n",
       "      <td>228.410004</td>\n",
       "      <td>229.179993</td>\n",
       "      <td>226.630005</td>\n",
       "      <td>27387073.0</td>\n",
       "      <td>0.003207</td>\n",
       "      <td>228.360001</td>\n",
       "      <td>AAPL</td>\n",
       "    </tr>\n",
       "    <tr>\n",
       "      <th>1</th>\n",
       "      <td>2018-09-05</td>\n",
       "      <td>03783310</td>\n",
       "      <td>228.990005</td>\n",
       "      <td>229.669998</td>\n",
       "      <td>225.100006</td>\n",
       "      <td>33369115.0</td>\n",
       "      <td>-0.006525</td>\n",
       "      <td>226.869995</td>\n",
       "      <td>AAPL</td>\n",
       "    </tr>\n",
       "    <tr>\n",
       "      <th>2</th>\n",
       "      <td>2018-09-06</td>\n",
       "      <td>03783310</td>\n",
       "      <td>226.229996</td>\n",
       "      <td>227.350006</td>\n",
       "      <td>221.300003</td>\n",
       "      <td>34286666.0</td>\n",
       "      <td>-0.016617</td>\n",
       "      <td>223.100006</td>\n",
       "      <td>AAPL</td>\n",
       "    </tr>\n",
       "    <tr>\n",
       "      <th>3</th>\n",
       "      <td>2018-09-07</td>\n",
       "      <td>03783310</td>\n",
       "      <td>221.850006</td>\n",
       "      <td>225.369995</td>\n",
       "      <td>220.710007</td>\n",
       "      <td>37616010.0</td>\n",
       "      <td>-0.008068</td>\n",
       "      <td>221.300003</td>\n",
       "      <td>AAPL</td>\n",
       "    </tr>\n",
       "    <tr>\n",
       "      <th>4</th>\n",
       "      <td>2018-09-10</td>\n",
       "      <td>03783310</td>\n",
       "      <td>220.949997</td>\n",
       "      <td>221.850006</td>\n",
       "      <td>216.470001</td>\n",
       "      <td>39516786.0</td>\n",
       "      <td>-0.013421</td>\n",
       "      <td>218.330002</td>\n",
       "      <td>AAPL</td>\n",
       "    </tr>\n",
       "  </tbody>\n",
       "</table>\n",
       "</div>"
      ],
      "text/plain": [
       "         date     cusip        open        high         low      volume  \\\n",
       "0  2018-09-04  03783310  228.410004  229.179993  226.630005  27387073.0   \n",
       "1  2018-09-05  03783310  228.990005  229.669998  225.100006  33369115.0   \n",
       "2  2018-09-06  03783310  226.229996  227.350006  221.300003  34286666.0   \n",
       "3  2018-09-07  03783310  221.850006  225.369995  220.710007  37616010.0   \n",
       "4  2018-09-10  03783310  220.949997  221.850006  216.470001  39516786.0   \n",
       "\n",
       "     return       close ticker  \n",
       "0  0.003207  228.360001   AAPL  \n",
       "1 -0.006525  226.869995   AAPL  \n",
       "2 -0.016617  223.100006   AAPL  \n",
       "3 -0.008068  221.300003   AAPL  \n",
       "4 -0.013421  218.330002   AAPL  "
      ]
     },
     "execution_count": 8,
     "metadata": {},
     "output_type": "execute_result"
    }
   ],
   "source": [
    "ID = ticker_id.loc[ticker].values[0] # type: str\n",
    "stmt = \"SELECT date, cusip, openprc, askhi, bidlo, vol, ret, prc \\\n",
    "        FROM crspa.dsf \\\n",
    "        WHERE cusip = '{}' AND (date BETWEEN '{}' AND '{}') \".format(ID, start, end)\n",
    "data =  conn.raw_sql(stmt)\n",
    "data.columns = ['date','cusip','open','high','low','volume','return','close']\n",
    "data['ticker'] = ticker\n",
    "data.head()"
   ]
  },
  {
   "cell_type": "markdown",
   "metadata": {},
   "source": [
    "### Ready to use"
   ]
  },
  {
   "cell_type": "code",
   "execution_count": 6,
   "metadata": {},
   "outputs": [],
   "source": [
    "# data = data.set_index('date')\n",
    "# data"
   ]
  },
  {
   "cell_type": "code",
   "execution_count": null,
   "metadata": {},
   "outputs": [],
   "source": []
  }
 ],
 "metadata": {
  "kernelspec": {
   "display_name": "Python 3",
   "language": "python",
   "name": "python3"
  },
  "language_info": {
   "codemirror_mode": {
    "name": "ipython",
    "version": 3
   },
   "file_extension": ".py",
   "mimetype": "text/x-python",
   "name": "python",
   "nbconvert_exporter": "python",
   "pygments_lexer": "ipython3",
   "version": "3.7.0"
  }
 },
 "nbformat": 4,
 "nbformat_minor": 2
}
