{
 "cells": [
  {
   "cell_type": "markdown",
   "metadata": {},
   "source": [
    "### Set up"
   ]
  },
  {
   "cell_type": "code",
   "execution_count": 5,
   "metadata": {},
   "outputs": [
    {
     "name": "stdout",
     "output_type": "stream",
     "text": [
      "Loading library list...\n",
      "Done\n"
     ]
    }
   ],
   "source": [
    "# !pip install wrds\n",
    "\n",
    "import wrds\n",
    "\n",
    "conn = wrds.Connection()\n",
    "#conn.create_pgpass_file()"
   ]
  },
  {
   "cell_type": "markdown",
   "metadata": {},
   "source": [
    "### View column names"
   ]
  },
  {
   "cell_type": "code",
   "execution_count": 7,
   "metadata": {},
   "outputs": [],
   "source": [
    "# all columns in a specific table, which include all stocks' data in one day\n",
    "\n",
    "# conn.describe_table(library = 'taqmsec', table = 'cqm_20180608')"
   ]
  },
  {
   "cell_type": "markdown",
   "metadata": {},
   "source": [
    "### Get data"
   ]
  },
  {
   "cell_type": "code",
   "execution_count": 8,
   "metadata": {},
   "outputs": [
    {
     "data": {
      "text/html": [
       "<div>\n",
       "<style scoped>\n",
       "    .dataframe tbody tr th:only-of-type {\n",
       "        vertical-align: middle;\n",
       "    }\n",
       "\n",
       "    .dataframe tbody tr th {\n",
       "        vertical-align: top;\n",
       "    }\n",
       "\n",
       "    .dataframe thead th {\n",
       "        text-align: right;\n",
       "    }\n",
       "</style>\n",
       "<table border=\"1\" class=\"dataframe\">\n",
       "  <thead>\n",
       "    <tr style=\"text-align: right;\">\n",
       "      <th></th>\n",
       "      <th>date</th>\n",
       "      <th>time_m</th>\n",
       "      <th>ex</th>\n",
       "      <th>sym_root</th>\n",
       "      <th>bid</th>\n",
       "      <th>ask</th>\n",
       "      <th>bidsiz</th>\n",
       "      <th>asksiz</th>\n",
       "    </tr>\n",
       "  </thead>\n",
       "  <tbody>\n",
       "    <tr>\n",
       "      <th>0</th>\n",
       "      <td>2018-06-08</td>\n",
       "      <td>04:00:00.072000</td>\n",
       "      <td>P</td>\n",
       "      <td>AAPL</td>\n",
       "      <td>1.00</td>\n",
       "      <td>0.0</td>\n",
       "      <td>1.0</td>\n",
       "      <td>0.0</td>\n",
       "    </tr>\n",
       "    <tr>\n",
       "      <th>1</th>\n",
       "      <td>2018-06-08</td>\n",
       "      <td>04:00:00.072000</td>\n",
       "      <td>P</td>\n",
       "      <td>AAPL</td>\n",
       "      <td>1.00</td>\n",
       "      <td>0.0</td>\n",
       "      <td>2.0</td>\n",
       "      <td>0.0</td>\n",
       "    </tr>\n",
       "    <tr>\n",
       "      <th>2</th>\n",
       "      <td>2018-06-08</td>\n",
       "      <td>04:00:00.072000</td>\n",
       "      <td>P</td>\n",
       "      <td>AAPL</td>\n",
       "      <td>15.00</td>\n",
       "      <td>0.0</td>\n",
       "      <td>1.0</td>\n",
       "      <td>0.0</td>\n",
       "    </tr>\n",
       "    <tr>\n",
       "      <th>3</th>\n",
       "      <td>2018-06-08</td>\n",
       "      <td>04:00:00.072000</td>\n",
       "      <td>P</td>\n",
       "      <td>AAPL</td>\n",
       "      <td>190.00</td>\n",
       "      <td>0.0</td>\n",
       "      <td>2.0</td>\n",
       "      <td>0.0</td>\n",
       "    </tr>\n",
       "    <tr>\n",
       "      <th>4</th>\n",
       "      <td>2018-06-08</td>\n",
       "      <td>04:00:00.072000</td>\n",
       "      <td>P</td>\n",
       "      <td>AAPL</td>\n",
       "      <td>190.31</td>\n",
       "      <td>0.0</td>\n",
       "      <td>8.0</td>\n",
       "      <td>0.0</td>\n",
       "    </tr>\n",
       "  </tbody>\n",
       "</table>\n",
       "</div>"
      ],
      "text/plain": [
       "         date           time_m ex sym_root     bid  ask  bidsiz  asksiz\n",
       "0  2018-06-08  04:00:00.072000  P     AAPL    1.00  0.0     1.0     0.0\n",
       "1  2018-06-08  04:00:00.072000  P     AAPL    1.00  0.0     2.0     0.0\n",
       "2  2018-06-08  04:00:00.072000  P     AAPL   15.00  0.0     1.0     0.0\n",
       "3  2018-06-08  04:00:00.072000  P     AAPL  190.00  0.0     2.0     0.0\n",
       "4  2018-06-08  04:00:00.072000  P     AAPL  190.31  0.0     8.0     0.0"
      ]
     },
     "execution_count": 8,
     "metadata": {},
     "output_type": "execute_result"
    }
   ],
   "source": [
    "# WRDS data is stored on Postgres.\n",
    "# SELECT => pick variable(s), * for all\n",
    "# FROM => dataset name\n",
    "# other SQL sytex including, WHERE, ORDER BY, GROUP BY, amd so on\n",
    "\n",
    "# stmt: SELCT column1, column2, ...\n",
    "#       From table_name\n",
    "#       WHERE symbol and time range\n",
    "\n",
    "stmt = \"SELECT date, time_m, ex, sym_root, bid, ask, bidsiz, asksiz \\\n",
    "        FROM taqmsec.cqm_20180608 \\\n",
    "        WHERE sym_root = 'AAPL' AND (time_m BETWEEN '04:00:00' AND '04:01:00') \"\n",
    "data =  conn.raw_sql(stmt)\n",
    "data.head()"
   ]
  },
  {
   "cell_type": "code",
   "execution_count": null,
   "metadata": {},
   "outputs": [],
   "source": []
  }
 ],
 "metadata": {
  "kernelspec": {
   "display_name": "Python 3",
   "language": "python",
   "name": "python3"
  },
  "language_info": {
   "codemirror_mode": {
    "name": "ipython",
    "version": 3
   },
   "file_extension": ".py",
   "mimetype": "text/x-python",
   "name": "python",
   "nbconvert_exporter": "python",
   "pygments_lexer": "ipython3",
   "version": "3.7.0"
  }
 },
 "nbformat": 4,
 "nbformat_minor": 2
}
